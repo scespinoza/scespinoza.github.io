{
 "cells": [
  {
   "cell_type": "code",
   "execution_count": 1,
   "metadata": {},
   "outputs": [],
   "source": [
    "import json\n",
    "import geopandas as gpd"
   ]
  },
  {
   "cell_type": "code",
   "execution_count": 2,
   "metadata": {},
   "outputs": [
    {
     "data": {
      "text/html": [
       "<div>\n",
       "<style scoped>\n",
       "    .dataframe tbody tr th:only-of-type {\n",
       "        vertical-align: middle;\n",
       "    }\n",
       "\n",
       "    .dataframe tbody tr th {\n",
       "        vertical-align: top;\n",
       "    }\n",
       "\n",
       "    .dataframe thead th {\n",
       "        text-align: right;\n",
       "    }\n",
       "</style>\n",
       "<table border=\"1\" class=\"dataframe\">\n",
       "  <thead>\n",
       "    <tr style=\"text-align: right;\">\n",
       "      <th></th>\n",
       "      <th>u</th>\n",
       "      <th>v</th>\n",
       "      <th>key</th>\n",
       "      <th>osmid</th>\n",
       "      <th>highway</th>\n",
       "      <th>oneway</th>\n",
       "      <th>length</th>\n",
       "      <th>lanes</th>\n",
       "      <th>ref</th>\n",
       "      <th>name</th>\n",
       "      <th>service</th>\n",
       "      <th>maxspeed</th>\n",
       "      <th>bridge</th>\n",
       "      <th>access</th>\n",
       "      <th>tunnel</th>\n",
       "      <th>junction</th>\n",
       "      <th>time</th>\n",
       "      <th>geometry</th>\n",
       "    </tr>\n",
       "  </thead>\n",
       "  <tbody>\n",
       "    <tr>\n",
       "      <th>0</th>\n",
       "      <td>3516268544</td>\n",
       "      <td>6893098112</td>\n",
       "      <td>0</td>\n",
       "      <td>3516268544-6893098112-344895442</td>\n",
       "      <td>service</td>\n",
       "      <td>0</td>\n",
       "      <td>11.396</td>\n",
       "      <td>None</td>\n",
       "      <td>None</td>\n",
       "      <td>None</td>\n",
       "      <td>None</td>\n",
       "      <td>None</td>\n",
       "      <td>None</td>\n",
       "      <td>None</td>\n",
       "      <td>None</td>\n",
       "      <td>None</td>\n",
       "      <td>3.798667</td>\n",
       "      <td>MULTILINESTRING ((-85.76285 38.25589, -85.7628...</td>\n",
       "    </tr>\n",
       "    <tr>\n",
       "      <th>1</th>\n",
       "      <td>3516268544</td>\n",
       "      <td>3516268543</td>\n",
       "      <td>0</td>\n",
       "      <td>3516268544-3516268543-522060941</td>\n",
       "      <td>primary</td>\n",
       "      <td>1</td>\n",
       "      <td>5.095</td>\n",
       "      <td>4</td>\n",
       "      <td>US 31W;US 60</td>\n",
       "      <td>West Market Street</td>\n",
       "      <td>None</td>\n",
       "      <td>None</td>\n",
       "      <td>None</td>\n",
       "      <td>None</td>\n",
       "      <td>None</td>\n",
       "      <td>None</td>\n",
       "      <td>1.698333</td>\n",
       "      <td>MULTILINESTRING ((-85.76285 38.25589, -85.7627...</td>\n",
       "    </tr>\n",
       "    <tr>\n",
       "      <th>2</th>\n",
       "      <td>6924959745</td>\n",
       "      <td>4600487070</td>\n",
       "      <td>0</td>\n",
       "      <td>6924959745-4600487070-465019965</td>\n",
       "      <td>service</td>\n",
       "      <td>0</td>\n",
       "      <td>30.601</td>\n",
       "      <td>None</td>\n",
       "      <td>None</td>\n",
       "      <td>None</td>\n",
       "      <td>alley</td>\n",
       "      <td>None</td>\n",
       "      <td>None</td>\n",
       "      <td>None</td>\n",
       "      <td>None</td>\n",
       "      <td>None</td>\n",
       "      <td>10.200333</td>\n",
       "      <td>MULTILINESTRING ((-85.76111 38.22599, -85.7610...</td>\n",
       "    </tr>\n",
       "    <tr>\n",
       "      <th>3</th>\n",
       "      <td>6924959745</td>\n",
       "      <td>4600487071</td>\n",
       "      <td>0</td>\n",
       "      <td>6924959745-4600487071-465019965</td>\n",
       "      <td>service</td>\n",
       "      <td>0</td>\n",
       "      <td>8.257</td>\n",
       "      <td>None</td>\n",
       "      <td>None</td>\n",
       "      <td>None</td>\n",
       "      <td>alley</td>\n",
       "      <td>None</td>\n",
       "      <td>None</td>\n",
       "      <td>None</td>\n",
       "      <td>None</td>\n",
       "      <td>None</td>\n",
       "      <td>2.752333</td>\n",
       "      <td>MULTILINESTRING ((-85.76111 38.22599, -85.7611...</td>\n",
       "    </tr>\n",
       "    <tr>\n",
       "      <th>4</th>\n",
       "      <td>3516268545</td>\n",
       "      <td>3516268583</td>\n",
       "      <td>0</td>\n",
       "      <td>3516268545-3516268583-344895443</td>\n",
       "      <td>service</td>\n",
       "      <td>0</td>\n",
       "      <td>13.283</td>\n",
       "      <td>None</td>\n",
       "      <td>None</td>\n",
       "      <td>None</td>\n",
       "      <td>None</td>\n",
       "      <td>None</td>\n",
       "      <td>None</td>\n",
       "      <td>None</td>\n",
       "      <td>None</td>\n",
       "      <td>None</td>\n",
       "      <td>4.427667</td>\n",
       "      <td>MULTILINESTRING ((-85.76084 38.25591, -85.7608...</td>\n",
       "    </tr>\n",
       "  </tbody>\n",
       "</table>\n",
       "</div>"
      ],
      "text/plain": [
       "            u           v  key                            osmid  highway  \\\n",
       "0  3516268544  6893098112    0  3516268544-6893098112-344895442  service   \n",
       "1  3516268544  3516268543    0  3516268544-3516268543-522060941  primary   \n",
       "2  6924959745  4600487070    0  6924959745-4600487070-465019965  service   \n",
       "3  6924959745  4600487071    0  6924959745-4600487071-465019965  service   \n",
       "4  3516268545  3516268583    0  3516268545-3516268583-344895443  service   \n",
       "\n",
       "   oneway  length lanes           ref                name service maxspeed  \\\n",
       "0       0  11.396  None          None                None    None     None   \n",
       "1       1   5.095     4  US 31W;US 60  West Market Street    None     None   \n",
       "2       0  30.601  None          None                None   alley     None   \n",
       "3       0   8.257  None          None                None   alley     None   \n",
       "4       0  13.283  None          None                None    None     None   \n",
       "\n",
       "  bridge access tunnel junction       time  \\\n",
       "0   None   None   None     None   3.798667   \n",
       "1   None   None   None     None   1.698333   \n",
       "2   None   None   None     None  10.200333   \n",
       "3   None   None   None     None   2.752333   \n",
       "4   None   None   None     None   4.427667   \n",
       "\n",
       "                                            geometry  \n",
       "0  MULTILINESTRING ((-85.76285 38.25589, -85.7628...  \n",
       "1  MULTILINESTRING ((-85.76285 38.25589, -85.7627...  \n",
       "2  MULTILINESTRING ((-85.76111 38.22599, -85.7610...  \n",
       "3  MULTILINESTRING ((-85.76111 38.22599, -85.7611...  \n",
       "4  MULTILINESTRING ((-85.76084 38.25591, -85.7608...  "
      ]
     },
     "execution_count": 2,
     "metadata": {},
     "output_type": "execute_result"
    }
   ],
   "source": [
    "network_bike = gpd.read_file('data/bike_edges.geojson')\n",
    "network_bike.head()"
   ]
  },
  {
   "cell_type": "code",
   "execution_count": 3,
   "metadata": {},
   "outputs": [],
   "source": [
    "with open('data/stkde_nhpp_1.json', 'r') as file:\n",
    "    trips = json.load(file)"
   ]
  },
  {
   "cell_type": "code",
   "execution_count": 9,
   "metadata": {},
   "outputs": [],
   "source": [
    "import numpy as np\n",
    "needed_edges = np.unique([edge for trip in trips['trips'] for edge in trip['ride']])"
   ]
  },
  {
   "cell_type": "code",
   "execution_count": 15,
   "metadata": {},
   "outputs": [],
   "source": [
    "import pandas as pd\n",
    "available = pd.Series(needed_edges).isin(network_bike['osmid'])"
   ]
  },
  {
   "cell_type": "code",
   "execution_count": 18,
   "metadata": {},
   "outputs": [
    {
     "data": {
      "text/plain": [
       "0.9399000526038926"
      ]
     },
     "execution_count": 18,
     "metadata": {},
     "output_type": "execute_result"
    }
   ],
   "source": [
    "available.sum() / len(available)"
   ]
  },
  {
   "cell_type": "code",
   "execution_count": 19,
   "metadata": {},
   "outputs": [
    {
     "data": {
      "text/plain": [
       "{'id': 4246,\n",
       " 'origin': '6415236554',\n",
       " 'destination': '7628222845',\n",
       " 'arrival_time': 1188.4025027637574,\n",
       " 'walk': [],\n",
       " 'walk_duration': None,\n",
       " 'ride': [],\n",
       " 'ride_duration': None,\n",
       " 'pickup_time': None,\n",
       " 'pickup_node': None,\n",
       " 'pricing': None,\n",
       " 'scooter': {'id': None,\n",
       "  'battery_level_pickup': None,\n",
       "  'battery_level_dropoff': None}}"
      ]
     },
     "execution_count": 19,
     "metadata": {},
     "output_type": "execute_result"
    }
   ],
   "source": [
    "trips['trips'][0]"
   ]
  }
 ],
 "metadata": {
  "kernelspec": {
   "display_name": "Python [conda env:mt]",
   "language": "python",
   "name": "conda-env-mt-py"
  },
  "language_info": {
   "codemirror_mode": {
    "name": "ipython",
    "version": 3
   },
   "file_extension": ".py",
   "mimetype": "text/x-python",
   "name": "python",
   "nbconvert_exporter": "python",
   "pygments_lexer": "ipython3",
   "version": "3.7.6"
  }
 },
 "nbformat": 4,
 "nbformat_minor": 4
}
